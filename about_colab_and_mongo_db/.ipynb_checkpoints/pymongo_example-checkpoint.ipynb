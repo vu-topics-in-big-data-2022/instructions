{
  "nbformat": 4,
  "nbformat_minor": 0,
  "metadata": {
    "colab": {
      "name": "Hw-3-test-colab-mongodb.ipynb",
      "provenance": []
    },
    "kernelspec": {
      "name": "python3",
      "display_name": "Python 3"
    }
  },
  "cells": [
    {
      "cell_type": "code",
      "metadata": {
        "id": "OWwtchHV2L0n"
      },
      "source": [
        "#import packages\n",
        "import time\n",
        "from copy import deepcopy\n",
        "import json\n",
        "import pymongo\n",
        "import os\n",
        "import datetime\n",
        "import pandas"
      ],
      "execution_count": null,
      "outputs": []
    },
    {
      "cell_type": "code",
      "metadata": {
        "id": "0wDs4NJq2fEu",
        "colab": {
          "base_uri": "https://localhost:8080/"
        },
        "outputId": "c16a6a67-687f-478f-8491-bf0ee5046e16"
      },
      "source": [
        "#get the username and and password information - You need to run it one time at start\n",
        "from getpass import getpass\n",
        "\n",
        "USER = getpass('Enter User Name here: ')\n",
        "PASS = getpass('Enter Password here: ')\n",
        "HOST = getpass('Enter HOST here: ')\n",
        "PORT = getpass('Enter PORT here: ')"
      ],
      "execution_count": null,
      "outputs": [
        {
          "output_type": "stream",
          "text": [
            "Enter User Name here: ··········\n",
            "Enter Password here: ··········\n",
            "Enter HOST here: ··········\n",
            "Enter PORT here: ··········\n"
          ],
          "name": "stdout"
        }
      ]
    },
    {
      "cell_type": "code",
      "metadata": {
        "id": "dPzDnNkG2z9B"
      },
      "source": [
        "#set up mongo connection\n",
        "mongo_url = \"mongodb://{}:{}@{}:{}/?authSource={}\".format(USER,\n",
        "                                                         PASS,\n",
        "                                                         HOST,\n",
        "                                                         PORT,\n",
        "                                                         \"lahman\")\n",
        "\n",
        "client = pymongo.MongoClient(mongo_url)"
      ],
      "execution_count": null,
      "outputs": []
    },
    {
      "cell_type": "code",
      "metadata": {
        "id": "vWKVOjW123Z9",
        "colab": {
          "base_uri": "https://localhost:8080/"
        },
        "outputId": "f1089bd1-4d88-4165-fae3-c39361f0cc0d"
      },
      "source": [
        "#get access to a specific database. this will work if you imported the data properly as instructed\n",
        "db = client['lahman']\n",
        "#now print all collection names\n",
        "print(\"collection names: {}\".format(db.list_collection_names()))\n",
        "reading = db['Batting'].find_one()\n",
        "#print one batting documents\n",
        "reading[\"_id\"] = str(reading[\"_id\"])\n",
        "print(reading)\n",
        "\n"
      ],
      "execution_count": null,
      "outputs": [
        {
          "output_type": "stream",
          "text": [
            "collection names: ['Master', 'FieldingPost', 'PitchingPost', 'ManagersHalf', 'HallOfFame', 'AwardsShareManagers', 'Schools', 'SchoolsPlayers', 'AllstarFull', 'AwardsManagers', 'Appearances', 'Teams', 'Salaries', 'Batting', 'TeamsHalf', 'Fielding', 'Managers', 'AwardsPlayers', 'BattingPost', 'Pitching', 'FieldingOF', 'AwardsSharePlayers', 'SeriesPost', 'TeamsFranchises']\n",
            "{'_id': '5ff9404c489c78cb9828abc4', 'playerID': 'aardsda01', 'yearID': 2004, 'stint': 1, 'teamID': 'SFN', 'lgID': 'NL', 'G': 11, 'G_batting': 11, 'AB': 0, 'R': 0, 'H': 0, '2B': 0, '3B': 0, 'HR': 0, 'RBI': 0, 'SB': 0, 'CS': 0, 'BB': 0, 'SO': 0, 'IBB': 0, 'HBP': 0, 'SH': 0, 'SF': 0, 'GIDP': 0, 'G_old': 11}\n"
          ],
          "name": "stdout"
        }
      ]
    },
    {
      "cell_type": "code",
      "metadata": {
        "id": "eGuW-NsSXsOu",
        "colab": {
          "base_uri": "https://localhost:8080/"
        },
        "outputId": "950be671-78bb-4a67-e734-433caa9c3583"
      },
      "source": [
        "#pretty print json and convert to pandas\n",
        "docs = pandas.DataFrame(columns=[])\n",
        "reading[\"_id\"] = str(reading[\"_id\"])\n",
        "series_obj = pandas.Series( reading, name=reading[\"_id\"])\n",
        "docs = docs.append( series_obj )\n",
        "json_object = docs.to_json() # return JSON data\n",
        "print(json_object)\n"
      ],
      "execution_count": null,
      "outputs": [
        {
          "output_type": "stream",
          "text": [
            "{\"2B\":{\"5ff9404c489c78cb9828abc4\":0.0},\"3B\":{\"5ff9404c489c78cb9828abc4\":0.0},\"AB\":{\"5ff9404c489c78cb9828abc4\":0.0},\"BB\":{\"5ff9404c489c78cb9828abc4\":0.0},\"CS\":{\"5ff9404c489c78cb9828abc4\":0.0},\"G\":{\"5ff9404c489c78cb9828abc4\":11.0},\"GIDP\":{\"5ff9404c489c78cb9828abc4\":0.0},\"G_batting\":{\"5ff9404c489c78cb9828abc4\":11.0},\"G_old\":{\"5ff9404c489c78cb9828abc4\":11.0},\"H\":{\"5ff9404c489c78cb9828abc4\":0.0},\"HBP\":{\"5ff9404c489c78cb9828abc4\":0.0},\"HR\":{\"5ff9404c489c78cb9828abc4\":0.0},\"IBB\":{\"5ff9404c489c78cb9828abc4\":0.0},\"R\":{\"5ff9404c489c78cb9828abc4\":0.0},\"RBI\":{\"5ff9404c489c78cb9828abc4\":0.0},\"SB\":{\"5ff9404c489c78cb9828abc4\":0.0},\"SF\":{\"5ff9404c489c78cb9828abc4\":0.0},\"SH\":{\"5ff9404c489c78cb9828abc4\":0.0},\"SO\":{\"5ff9404c489c78cb9828abc4\":0.0},\"_id\":{\"5ff9404c489c78cb9828abc4\":\"5ff9404c489c78cb9828abc4\"},\"lgID\":{\"5ff9404c489c78cb9828abc4\":\"NL\"},\"playerID\":{\"5ff9404c489c78cb9828abc4\":\"aardsda01\"},\"stint\":{\"5ff9404c489c78cb9828abc4\":1.0},\"teamID\":{\"5ff9404c489c78cb9828abc4\":\"SFN\"},\"yearID\":{\"5ff9404c489c78cb9828abc4\":2004.0}}\n"
          ],
          "name": "stdout"
        }
      ]
    },
    {
      "cell_type": "code",
      "metadata": {
        "id": "PSSl6lbvY5_R",
        "colab": {
          "base_uri": "https://localhost:8080/"
        },
        "outputId": "6111a3a9-62c6-4dd4-adb0-dd1c1c486ed1"
      },
      "source": [
        "#working with a cursor that returns multiple documents\n",
        "aaronha01batting = db['Batting'].find({ \"playerID\": {\"$eq\": \"aaronha01\"}})\n",
        "years = [x['yearID'] for x in aaronha01batting]\n",
        "years"
      ],
      "execution_count": null,
      "outputs": [
        {
          "output_type": "execute_result",
          "data": {
            "text/plain": [
              "[1954,\n",
              " 1955,\n",
              " 1956,\n",
              " 1957,\n",
              " 1958,\n",
              " 1959,\n",
              " 1960,\n",
              " 1961,\n",
              " 1962,\n",
              " 1963,\n",
              " 1964,\n",
              " 1965,\n",
              " 1966,\n",
              " 1967,\n",
              " 1968,\n",
              " 1969,\n",
              " 1970,\n",
              " 1971,\n",
              " 1972,\n",
              " 1973,\n",
              " 1974,\n",
              " 1975,\n",
              " 1976]"
            ]
          },
          "metadata": {
            "tags": []
          },
          "execution_count": 6
        }
      ]
    }
  ]
}
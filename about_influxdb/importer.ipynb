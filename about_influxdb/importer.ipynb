{
  "nbformat": 4,
  "nbformat_minor": 0,
  "metadata": {
    "colab": {
      "name": "InfluxDB-connection-loadtweeta.ipynb",
      "provenance": [],
      "collapsed_sections": []
    },
    "kernelspec": {
      "name": "python3",
      "display_name": "Python 3"
    }
  },
  "cells": [
    {
      "cell_type": "code",
      "metadata": {
        "colab": {
          "base_uri": "https://localhost:8080/"
        },
        "id": "WqcXu_pFxJnO",
        "outputId": "d813d39f-2ca1-4740-d28e-7db6501e9e0a"
      },
      "source": [
        "!pip install influxdb"
      ],
      "execution_count": 1,
      "outputs": [
        {
          "output_type": "stream",
          "text": [
            "Collecting influxdb\n",
            "\u001b[?25l  Downloading https://files.pythonhosted.org/packages/01/95/3a72ea5e19df828d27af0a50092f2b24114a5f89922efb4d8a0960bf13ef/influxdb-5.3.1-py2.py3-none-any.whl (77kB)\n",
            "\r\u001b[K     |████▏                           | 10kB 13.7MB/s eta 0:00:01\r\u001b[K     |████████▍                       | 20kB 18.8MB/s eta 0:00:01\r\u001b[K     |████████████▋                   | 30kB 9.1MB/s eta 0:00:01\r\u001b[K     |████████████████▉               | 40kB 7.5MB/s eta 0:00:01\r\u001b[K     |█████████████████████           | 51kB 4.3MB/s eta 0:00:01\r\u001b[K     |█████████████████████████▎      | 61kB 4.7MB/s eta 0:00:01\r\u001b[K     |█████████████████████████████▍  | 71kB 4.9MB/s eta 0:00:01\r\u001b[K     |████████████████████████████████| 81kB 3.7MB/s \n",
            "\u001b[?25hRequirement already satisfied: python-dateutil>=2.6.0 in /usr/local/lib/python3.6/dist-packages (from influxdb) (2.8.1)\n",
            "Requirement already satisfied: six>=1.10.0 in /usr/local/lib/python3.6/dist-packages (from influxdb) (1.15.0)\n",
            "Requirement already satisfied: requests>=2.17.0 in /usr/local/lib/python3.6/dist-packages (from influxdb) (2.23.0)\n",
            "Requirement already satisfied: pytz in /usr/local/lib/python3.6/dist-packages (from influxdb) (2018.9)\n",
            "Requirement already satisfied: msgpack in /usr/local/lib/python3.6/dist-packages (from influxdb) (1.0.2)\n",
            "Requirement already satisfied: urllib3!=1.25.0,!=1.25.1,<1.26,>=1.21.1 in /usr/local/lib/python3.6/dist-packages (from requests>=2.17.0->influxdb) (1.24.3)\n",
            "Requirement already satisfied: certifi>=2017.4.17 in /usr/local/lib/python3.6/dist-packages (from requests>=2.17.0->influxdb) (2020.12.5)\n",
            "Requirement already satisfied: chardet<4,>=3.0.2 in /usr/local/lib/python3.6/dist-packages (from requests>=2.17.0->influxdb) (3.0.4)\n",
            "Requirement already satisfied: idna<3,>=2.5 in /usr/local/lib/python3.6/dist-packages (from requests>=2.17.0->influxdb) (2.10)\n",
            "Installing collected packages: influxdb\n",
            "Successfully installed influxdb-5.3.1\n"
          ],
          "name": "stdout"
        }
      ]
    },
    {
      "cell_type": "code",
      "metadata": {
        "id": "nl5XcJZpxVb1"
      },
      "source": [
        "from influxdb import InfluxDBClient\r\n",
        "import json\r\n",
        "import datetime"
      ],
      "execution_count": 4,
      "outputs": []
    },
    {
      "cell_type": "code",
      "metadata": {
        "id": "Rx9Hztq0xcH3",
        "colab": {
          "base_uri": "https://localhost:8080/"
        },
        "outputId": "dbc1ce6d-0af3-4bc3-ed62-1c4db58d0230"
      },
      "source": [
        "# upload tweetdata and open it  \r\n",
        "f = open(\"/content/nashville-tweets-2019-01-28\",)\r\n",
        "lines = f.readlines()\r\n",
        "\r\n",
        "client = InfluxDBClient(host='ec2-54-167-74-80.compute-1.amazonaws.com', port=8086, database=\"tweet\")\r\n",
        "\r\n",
        "for line in lines:\r\n",
        "  try:\r\n",
        "      # Parse with: tweet = json.loads(line)\r\n",
        "      tweet = json.loads(line)\r\n",
        "      json_body = [\r\n",
        "        {\r\n",
        "            \"measurement\": \"tweet\",\r\n",
        "            \"tags\": {\r\n",
        "                \"user_name\": tweet['user']['name'],\r\n",
        "                \"screen_name\":tweet['user']['screen_name'],\r\n",
        "                \"user_location\":tweet['user']['location'],\r\n",
        "                \"place_type\": tweet['place']['place_type'],\r\n",
        "                \"country\": tweet['place']['country']\r\n",
        "             \r\n",
        "            },\r\n",
        "            \"time\":  tweet['created_at'],\r\n",
        "            \"fields\":  {\r\n",
        "                \"text\": tweet['text'],\r\n",
        "                \"quote_count\": tweet['quote_count'],\r\n",
        "                \"contributors\": tweet['contributors'],\r\n",
        "                \"truncated\": tweet['truncated'], \r\n",
        "                \"reply_count\": tweet['reply_count'], \r\n",
        "                \"favorite_count\": tweet['favorite_count'],\r\n",
        "                \"source\": tweet['source'],\r\n",
        "                \"favorited\": tweet['favorited'],\r\n",
        "                \"followers_count\":tweet['user']['followers_count'],\r\n",
        "                \"user description\":tweet['user']['description'],\r\n",
        "                \"friends_count\":tweet['user']['friends_count']\r\n",
        "                \r\n",
        "            }\r\n",
        "            \r\n",
        "        }\r\n",
        "      ]\r\n",
        "\r\n",
        " \r\n",
        "      client.write_points(json_body)\r\n",
        "      \r\n",
        "  except:\r\n",
        "      # ignore tweets that error on load\r\n",
        "      print(\"exception\")\r\n",
        "      pass\r\n",
        "  \r\n"
      ],
      "execution_count": 5,
      "outputs": [
        {
          "output_type": "stream",
          "text": [
            "exception\n"
          ],
          "name": "stdout"
        }
      ]
    },
    {
      "cell_type": "code",
      "metadata": {
        "id": "B31mG5DmQhp5"
      },
      "source": [
        "# example query to count tweets\r\n",
        "q = client.query(\"select count(*) from tweet\")"
      ],
      "execution_count": 7,
      "outputs": []
    },
    {
      "cell_type": "code",
      "metadata": {
        "colab": {
          "base_uri": "https://localhost:8080/"
        },
        "id": "9xopy5jioTKS",
        "outputId": "9fb7a3ed-849d-468b-9a64-305092baadc4"
      },
      "source": [
        "print(q)"
      ],
      "execution_count": 8,
      "outputs": [
        {
          "output_type": "stream",
          "text": [
            "ResultSet({'('tweet', None)': [{'time': '1970-01-01T00:00:00Z', 'count_favorite_count': 6285, 'count_favorited': 6285, 'count_followers_count': 6285, 'count_friends_count': 6285, 'count_quote_count': 6285, 'count_reply_count': 6285, 'count_source': 6285, 'count_text': 6285, 'count_truncated': 6285, 'count_user description': 5723}]})\n"
          ],
          "name": "stdout"
        }
      ]
    }
  ]
}
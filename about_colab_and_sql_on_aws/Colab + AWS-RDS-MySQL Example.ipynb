{
  "nbformat": 4,
  "nbformat_minor": 0,
  "metadata": {
    "colab": {
      "name": "Hw-1-MySQL-testcolabconnection-part3.ipynb",
      "provenance": []
    },
    "kernelspec": {
      "name": "python3",
      "display_name": "Python 3"
    }
  },
  "cells": [
    {
      "cell_type": "markdown",
      "metadata": {
        "id": "PqfHYEVMXoOR"
      },
      "source": [
        "Get MySQL python Module (note we use python 3 by default)"
      ]
    },
    {
      "cell_type": "code",
      "metadata": {
        "id": "5mlJ_PBXXd0q",
        "colab": {
          "base_uri": "https://localhost:8080/"
        },
        "outputId": "4bc78879-6fca-4ca5-fd64-70a35f29ba95"
      },
      "source": [
        "!pip install pymysql"
      ],
      "execution_count": null,
      "outputs": []
    },
    {
      "cell_type": "markdown",
      "metadata": {
        "id": "4Jfc21p9Xy7w"
      },
      "source": [
        "Create the DB connection class and update the parameters for your database"
      ]
    },
    {
      "cell_type": "code",
      "metadata": {
        "id": "h8BqquqsX27v"
      },
      "source": [
        "import pymysql\n",
        "\n",
        "\n",
        "class DB:\n",
        "    def __init__(self):\n",
        "        try:\n",
        "            # Set up MySql connection, please replace credential info with yours\n",
        "            self.conn = pymysql.connect(\n",
        "                user = \"xxx\",\n",
        "                password = \"xxx\",\n",
        "                host=\"xxx\",\n",
        "                database='xxx'\n",
        "            )\n",
        "\n",
        "        except Exception as e:\n",
        "            print(\"I am unable to connect to the database - bye \" + str(e))\n",
        "            exit()\n",
        "        print('Got a DB connection!- hurray')\n",
        "        self.cur = self.conn.cursor()\n",
        "\n",
        "    def cursor(self):\n",
        "        return self.cur\n",
        "\n",
        "    def getNewCursor(self):\n",
        "        return self.conn.cursor()\n",
        "\n",
        "    def connection(self):\n",
        "        return self.conn\n",
        "\n",
        "    def query(self, q):\n",
        "        self.cur.execute(q)\n",
        "        try:\n",
        "          return self.cur.fetchall()\n",
        "        except Exception as e:\n",
        "          print('no result to return')\n",
        "          return\n",
        "          \n"
      ],
      "execution_count": null,
      "outputs": []
    },
    {
      "cell_type": "markdown",
      "metadata": {
        "id": "RwddZS9uYWW0"
      },
      "source": [
        "Run a sample Query.\n"
      ]
    },
    {
      "cell_type": "code",
      "metadata": {
        "id": "BajLajrCYZSb",
        "colab": {
          "base_uri": "https://localhost:8080/"
        },
        "outputId": "2a012156-9ae9-41da-e8e2-52941eb65242"
      },
      "source": [
        "db1 = DB()\n",
        "\n",
        "q = 'use <your database name here>;'\n",
        "db1.query(q)\n",
        "\n",
        "q = 'show tables;'\n",
        "res=db1.query(q)\n",
        "print('Success! I ran a query and got {} results'.format(len(db1.query(q))))\n",
        "print(res)\n",
        "\n",
        "q = 'select * from <db name>.<table name>;'\n",
        "res=db1.query(q)\n",
        "print('Success! I ran a query and got {} results'.format(len(db1.query(q))))\n",
        "print(res)\n",
        "\n",
        "## More query operations...\n",
        "\n",
        "mycursor = db1.cursor()\n",
        "mycursor.execute(\"use <db name>;\")\n",
        "mycursor.execute(\"show tables;\")\n",
        "\n",
        "# More cursor operations...\n",
        "\n",
        "myresult = mycursor.fetchall()\n",
        "print('Success! I ran a query and got {} results'.format(len(myresult)))\n",
        "for x in myresult:\n",
        "  print(x)"
      ],
      "execution_count": null,
      "outputs": []
    }
  ]
}